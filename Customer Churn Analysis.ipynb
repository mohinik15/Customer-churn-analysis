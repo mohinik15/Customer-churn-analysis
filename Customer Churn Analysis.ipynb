{
 "cells": [
  {
   "cell_type": "markdown",
   "id": "59c1037c",
   "metadata": {},
   "source": [
    "# Customer Churn Analysis Project\n",
    "\n",
    "Problem Statement:\n",
    "\n",
    "Customer churn is when a company’s customers stop doing business with that company. Businesses are very keen on measuring churn because keeping an existing customer is far less expensive than acquiring a new customer. New business involves working leads through a sales funnel, using marketing and sales budgets to gain additional customers. Existing customers will often have a higher volume of service consumption and can generate additional customer referrals.\n",
    "\n",
    "Customer retention can be achieved with good customer service and products. But the most effective way for a company to prevent attrition of customers is to truly know them. The vast volumes of data collected about customers can be used to build churn prediction models. Knowing who is most likely to defect means that a company can prioritise focused marketing efforts on that subset of their customer base.\n",
    "\n",
    "Preventing customer churn is critically important to the telecommunications sector, as the barriers to entry for switching services are so low.\n",
    "\n",
    "You will examine customer data from IBM Sample Data Sets with the aim of building and comparing several customer churn prediction models."
   ]
  },
  {
   "cell_type": "code",
   "execution_count": null,
   "id": "51737eba",
   "metadata": {},
   "outputs": [],
   "source": [
    "import warnings\n",
    "warnings.simplefilter(\"ignore\")\n",
    "warnings.filterwarnings(\"ignore\")\n",
    "import joblib\n",
    "\n",
    "import pandas as pd\n",
    "import numpy as np\n",
    "import seaborn as sns\n",
    "import missingno\n",
    "import matplotlib.pyplot as plt\n",
    "%matplotlib inline\n",
    "\n",
    "from imblearn.over_sampling import SMOTE\n",
    "from sklearn.preprocessing import LabelEncoder\n",
    "from sklearn.preprocessing import OrdinalEncoder\n",
    "from sklearn.preprocessing import StandardScaler\n",
    "from sklearn.model_selection import train_test_split\n",
    "from sklearn.linear_model import LogisticRegression\n",
    "from sklearn.svm import SVC\n",
    "from sklearn.tree import DecisionTreeClassifier\n",
    "from sklearn.ensemble import RandomForestClassifier\n",
    "from sklearn.ensemble import ExtraTreesClassifier\n",
    "from sklearn.neighbors import KNeighborsClassifier\n",
    "import xgboost as xgb\n",
    "import lightgbm as lgb\n",
    "\n",
    "from sklearn import metrics\n",
    "from sklearn.metrics import classification_report\n",
    "from sklearn.metrics import accuracy_score\n",
    "from sklearn.model_selection import cross_val_score\n",
    "from sklearn.model_selection import GridSearchCV"
   ]
  },
  {
   "cell_type": "code",
   "execution_count": null,
   "id": "0b24792e",
   "metadata": {},
   "outputs": [],
   "source": [
    "df = pd.read_csv(\"https://raw.githubusercontent.com/dsrscientist/DSData/master/Telecom_customer_churn.csv\")"
   ]
  },
  {
   "cell_type": "code",
   "execution_count": null,
   "id": "8a95dd3b",
   "metadata": {},
   "outputs": [],
   "source": [
    "df # checking the first 5 and last 5 rows of our dataset"
   ]
  },
  {
   "cell_type": "markdown",
   "id": "29ab82ec",
   "metadata": {},
   "source": [
    "# Exploratory Data Analysis (EDA)"
   ]
  },
  {
   "cell_type": "code",
   "execution_count": null,
   "id": "2ab97e1c",
   "metadata": {},
   "outputs": [],
   "source": [
    "df.drop(\"customerID\", axis=1, inplace=True)"
   ]
  },
  {
   "cell_type": "code",
   "execution_count": null,
   "id": "cfc02b6f",
   "metadata": {},
   "outputs": [],
   "source": [
    "df.info()"
   ]
  },
  {
   "cell_type": "code",
   "execution_count": null,
   "id": "5245032e",
   "metadata": {},
   "outputs": [],
   "source": [
    "# getting list of object data type column names\n",
    "object_datatype = []\n",
    "for x in df.dtypes.index:\n",
    "    if df.dtypes[x] == 'O':\n",
    "        object_datatype.append(x)\n",
    "print(f\"Object Data Type Columns are:\\n\", object_datatype)\n",
    "\n",
    "# getting the list of numeric data type column names\n",
    "number_datatype = []\n",
    "for x in df.dtypes.index:\n",
    "    if df.dtypes[x] == 'float64' or df.dtypes[x] == 'int64':\n",
    "        number_datatype.append(x)\n",
    "print(f\"\\nNumber Data Type Columns are:\\n\", number_datatype)"
   ]
  },
  {
   "cell_type": "code",
   "execution_count": null,
   "id": "4ebdc86b",
   "metadata": {},
   "outputs": [],
   "source": [
    "df.describe()"
   ]
  },
  {
   "cell_type": "code",
   "execution_count": null,
   "id": "12cdaa84",
   "metadata": {},
   "outputs": [],
   "source": [
    "df.describe(include=\"all\").T"
   ]
  },
  {
   "cell_type": "code",
   "execution_count": null,
   "id": "e095b42d",
   "metadata": {},
   "outputs": [],
   "source": [
    "df.isna().sum()"
   ]
  },
  {
   "cell_type": "code",
   "execution_count": null,
   "id": "ae035336",
   "metadata": {},
   "outputs": [],
   "source": [
    "missingno.bar(df, figsize = (25,5), color=\"tab:green\")"
   ]
  },
  {
   "cell_type": "code",
   "execution_count": null,
   "id": "98d6c2b2",
   "metadata": {},
   "outputs": [],
   "source": [
    "print(f\"Rows and Columns before dropping duplicates: \", df.shape)\n",
    "df.drop_duplicates(inplace=True)\n",
    "print(f\"Rows and Columns after dropping duplicates: \", df.shape)"
   ]
  },
  {
   "cell_type": "code",
   "execution_count": null,
   "id": "7c21666f",
   "metadata": {},
   "outputs": [],
   "source": [
    "df.nunique().to_frame(\"Unique Values\")"
   ]
  },
  {
   "cell_type": "code",
   "execution_count": null,
   "id": "d28faf96",
   "metadata": {},
   "outputs": [],
   "source": [
    "for col in object_datatype:\n",
    "    print(col)\n",
    "    print(df[col].value_counts())\n",
    "    print(\"=\"*120)"
   ]
  },
  {
   "cell_type": "code",
   "execution_count": null,
   "id": "8b4b9982",
   "metadata": {},
   "outputs": [],
   "source": [
    "df['TotalCharges'] = df['TotalCharges'].replace(' ' , '0.0')\n",
    "df['TotalCharges'].value_counts()"
   ]
  },
  {
   "cell_type": "code",
   "execution_count": null,
   "id": "58ff7a89",
   "metadata": {},
   "outputs": [],
   "source": [
    "df['TotalCharges'] = df['TotalCharges'].astype('float')\n",
    "df['TotalCharges'].dtype"
   ]
  },
  {
   "cell_type": "code",
   "execution_count": null,
   "id": "8ed080fc",
   "metadata": {},
   "outputs": [],
   "source": [
    "df['SeniorCitizen'] = df['SeniorCitizen'].astype('O')\n",
    "df['SeniorCitizen'].dtype"
   ]
  },
  {
   "cell_type": "code",
   "execution_count": null,
   "id": "586c2318",
   "metadata": {},
   "outputs": [],
   "source": [
    "# getting list of object data type column names\n",
    "object_datatype = []\n",
    "for x in df.dtypes.index:\n",
    "    if df.dtypes[x] == 'O':\n",
    "        object_datatype.append(x)\n",
    "print(f\"Object Data Type Columns are:\\n\", object_datatype)\n",
    "\n",
    "# getting the list of numeric data type column names\n",
    "number_datatype = []\n",
    "for x in df.dtypes.index:\n",
    "    if df.dtypes[x] == 'float64' or df.dtypes[x] == 'int64':\n",
    "        number_datatype.append(x)\n",
    "print(f\"\\nNumber Data Type Columns are:\\n\", number_datatype)"
   ]
  },
  {
   "cell_type": "markdown",
   "id": "ddde11a9",
   "metadata": {},
   "source": [
    "# Visualization"
   ]
  },
  {
   "cell_type": "code",
   "execution_count": null,
   "id": "775cffff",
   "metadata": {},
   "outputs": [],
   "source": [
    "plt.style.use('seaborn-pastel')\n",
    "\n",
    "try:\n",
    "    plt.figure(figsize=(5,5))\n",
    "    col_name = 'Churn'\n",
    "    values = df[col_name].value_counts()\n",
    "    index = 0\n",
    "    ax = sns.countplot(df[col_name], palette=\"prism\")\n",
    "\n",
    "    for i in ax.get_xticklabels():\n",
    "        ax.text(index, values[i.get_text()]/2, values[i.get_text()], \n",
    "                horizontalalignment=\"center\", fontweight='bold', color='w')\n",
    "        index += 1\n",
    "    \n",
    "    plt.title(f\"Count Plot for {col_name}\\n\")\n",
    "    plt.ylabel(f\"Number of rows\")\n",
    "    plt.show()\n",
    "    \n",
    "except Exception as e:\n",
    "    print(\"Error:\", e)\n",
    "    pass"
   ]
  },
  {
   "cell_type": "code",
   "execution_count": null,
   "id": "54bd78d7",
   "metadata": {},
   "outputs": [],
   "source": [
    "try:\n",
    "    plt.figure(figsize=(5,5))\n",
    "    col_name = 'gender'\n",
    "    values = df[col_name].value_counts()\n",
    "    index = 0\n",
    "    ax = sns.countplot(df[col_name], palette=\"prism\")\n",
    "\n",
    "    for i in ax.get_xticklabels():\n",
    "        ax.text(index, values[i.get_text()]/2, values[i.get_text()], \n",
    "                horizontalalignment=\"center\", fontweight='bold', color='w')\n",
    "        index += 1\n",
    "    \n",
    "    plt.title(f\"Count Plot for {col_name}\\n\")\n",
    "    plt.ylabel(f\"Number of rows\")\n",
    "    plt.show()\n",
    "    \n",
    "except Exception as e:\n",
    "    print(\"Error:\", e)\n",
    "    pass"
   ]
  },
  {
   "cell_type": "code",
   "execution_count": null,
   "id": "999a08cf",
   "metadata": {},
   "outputs": [],
   "source": [
    "try:\n",
    "    plt.figure(figsize=(5,5))\n",
    "    col_name = 'SeniorCitizen'\n",
    "    values = df[col_name].value_counts()\n",
    "    index = 0\n",
    "    ax = sns.countplot(df[col_name], palette=\"prism\")\n",
    "\n",
    "    for i in ax.get_xticklabels():\n",
    "        ax.text(index, values[i.get_text()]/2, values[i.get_text()], \n",
    "                horizontalalignment=\"center\", fontweight='bold', color='w')\n",
    "        index += 1\n",
    "    \n",
    "    plt.title(f\"Count Plot for {col_name}\\n\")\n",
    "    plt.ylabel(f\"Number of rows\")\n",
    "    plt.show()\n",
    "    \n",
    "except Exception as e:\n",
    "    pass"
   ]
  },
  {
   "cell_type": "code",
   "execution_count": null,
   "id": "c741fffe",
   "metadata": {},
   "outputs": [],
   "source": [
    "try:\n",
    "    plt.figure(figsize=(5,5))\n",
    "    col_name = 'Partner'\n",
    "    values = df[col_name].value_counts()\n",
    "    index = 0\n",
    "    ax = sns.countplot(df[col_name], palette=\"prism\")\n",
    "\n",
    "    for i in ax.get_xticklabels():\n",
    "        ax.text(index, values[i.get_text()]/2, values[i.get_text()], \n",
    "                horizontalalignment=\"center\", fontweight='bold', color='w')\n",
    "        index += 1\n",
    "    \n",
    "    plt.title(f\"Count Plot for {col_name}\\n\")\n",
    "    plt.ylabel(f\"Number of rows\")\n",
    "    plt.show()\n",
    "    \n",
    "except Exception as e:\n",
    "    print(\"Error:\", e)\n",
    "    pass"
   ]
  },
  {
   "cell_type": "code",
   "execution_count": null,
   "id": "4a704406",
   "metadata": {},
   "outputs": [],
   "source": [
    "try:\n",
    "    plt.figure(figsize=(5,5))\n",
    "    col_name = 'Dependents'\n",
    "    values = df[col_name].value_counts()\n",
    "    index = 0\n",
    "    ax = sns.countplot(df[col_name], palette=\"prism\")\n",
    "\n",
    "    for i in ax.get_xticklabels():\n",
    "        ax.text(index, values[i.get_text()]/2, values[i.get_text()], \n",
    "                horizontalalignment=\"center\", fontweight='bold', color='w')\n",
    "        index += 1\n",
    "    \n",
    "    plt.title(f\"Count Plot for {col_name}\\n\")\n",
    "    plt.ylabel(f\"Number of rows\")\n",
    "    plt.show()\n",
    "    \n",
    "except Exception as e:\n",
    "    print(\"Error:\", e)\n",
    "    pass"
   ]
  },
  {
   "cell_type": "code",
   "execution_count": null,
   "id": "bf1a9c4a",
   "metadata": {},
   "outputs": [],
   "source": [
    "try:\n",
    "    plt.figure(figsize=(5,5))\n",
    "    col_name = 'PhoneService'\n",
    "    values = df[col_name].value_counts()\n",
    "    index = 0\n",
    "    ax = sns.countplot(df[col_name], palette=\"prism\")\n",
    "\n",
    "    for i in ax.get_xticklabels():\n",
    "        ax.text(index, values[i.get_text()]/2, values[i.get_text()], \n",
    "                horizontalalignment=\"center\", fontweight='bold', color='w')\n",
    "        index += 1\n",
    "    \n",
    "    plt.title(f\"Count Plot for {col_name}\\n\")\n",
    "    plt.ylabel(f\"Number of rows\")\n",
    "    plt.show()\n",
    "    \n",
    "except Exception as e:\n",
    "    print(\"Error:\", e)\n",
    "    pass"
   ]
  },
  {
   "cell_type": "code",
   "execution_count": null,
   "id": "7a5a818a",
   "metadata": {},
   "outputs": [],
   "source": [
    "try:\n",
    "    plt.figure(figsize=(5,5))\n",
    "    col_name = 'PaperlessBilling'\n",
    "    values = df[col_name].value_counts()\n",
    "    index = 0\n",
    "    ax = sns.countplot(df[col_name], palette=\"prism\")\n",
    "\n",
    "    for i in ax.get_xticklabels():\n",
    "        ax.text(index, values[i.get_text()]/2, values[i.get_text()], \n",
    "                horizontalalignment=\"center\", fontweight='bold', color='w')\n",
    "        index += 1\n",
    "    \n",
    "    plt.title(f\"Count Plot for {col_name}\\n\")\n",
    "    plt.ylabel(f\"Number of rows\")\n",
    "    plt.show()\n",
    "    \n",
    "except Exception as e:\n",
    "    print(\"Error:\", e)\n",
    "    pass"
   ]
  },
  {
   "cell_type": "code",
   "execution_count": null,
   "id": "b4407956",
   "metadata": {},
   "outputs": [],
   "source": [
    "try:\n",
    "    plt.figure(figsize=(5,5))\n",
    "    col_name = 'MultipleLines'\n",
    "    values = df[col_name].value_counts()\n",
    "    index = 0\n",
    "    ax = sns.countplot(df[col_name], palette=\"prism\")\n",
    "\n",
    "    for i in ax.get_xticklabels():\n",
    "        ax.text(index, values[i.get_text()]/2, values[i.get_text()], \n",
    "                horizontalalignment=\"center\", fontweight='bold', color='w')\n",
    "        index += 1\n",
    "    \n",
    "    plt.title(f\"Count Plot for {col_name}\\n\")\n",
    "    plt.ylabel(f\"Number of rows\")\n",
    "    plt.show()\n",
    "    \n",
    "except Exception as e:\n",
    "    print(\"Error:\", e)\n",
    "    pass"
   ]
  },
  {
   "cell_type": "code",
   "execution_count": null,
   "id": "d7154fdb",
   "metadata": {},
   "outputs": [],
   "source": [
    "try:\n",
    "    plt.figure(figsize=(5,5))\n",
    "    col_name = 'InternetService'\n",
    "    values = df[col_name].value_counts()\n",
    "    index = 0\n",
    "    ax = sns.countplot(df[col_name], palette=\"prism\")\n",
    "\n",
    "    for i in ax.get_xticklabels():\n",
    "        ax.text(index, values[i.get_text()]/2, values[i.get_text()], \n",
    "                horizontalalignment=\"center\", fontweight='bold', color='w')\n",
    "        index += 1\n",
    "    \n",
    "    plt.title(f\"Count Plot for {col_name}\\n\")\n",
    "    plt.ylabel(f\"Number of rows\")\n",
    "    plt.show()\n",
    "    \n",
    "except Exception as e:\n",
    "    print(\"Error:\", e)\n",
    "    pass"
   ]
  },
  {
   "cell_type": "code",
   "execution_count": null,
   "id": "6ca82dfc",
   "metadata": {},
   "outputs": [],
   "source": [
    "try:\n",
    "    plt.figure(figsize=(5,5))\n",
    "    col_name = 'OnlineSecurity'\n",
    "    values = df[col_name].value_counts()\n",
    "    index = 0\n",
    "    ax = sns.countplot(df[col_name], palette=\"prism\")\n",
    "\n",
    "    for i in ax.get_xticklabels():\n",
    "        ax.text(index, values[i.get_text()]/2, values[i.get_text()], \n",
    "                horizontalalignment=\"center\", fontweight='bold', color='w')\n",
    "        index += 1\n",
    "    \n",
    "    plt.title(f\"Count Plot for {col_name}\\n\")\n",
    "    plt.ylabel(f\"Number of rows\")\n",
    "    plt.show()\n",
    "    \n",
    "except Exception as e:\n",
    "    print(\"Error:\", e)\n",
    "    pass"
   ]
  },
  {
   "cell_type": "code",
   "execution_count": null,
   "id": "80ab0ed1",
   "metadata": {},
   "outputs": [],
   "source": [
    "try:\n",
    "    plt.figure(figsize=(5,5))\n",
    "    col_name = 'OnlineBackup'\n",
    "    values = df[col_name].value_counts()\n",
    "    index = 0\n",
    "    ax = sns.countplot(df[col_name], palette=\"prism\")\n",
    "\n",
    "    for i in ax.get_xticklabels():\n",
    "        ax.text(index, values[i.get_text()]/2, values[i.get_text()], \n",
    "                horizontalalignment=\"center\", fontweight='bold', color='w')\n",
    "        index += 1\n",
    "    \n",
    "    plt.title(f\"Count Plot for {col_name}\\n\")\n",
    "    plt.ylabel(f\"Number of rows\")\n",
    "    plt.show()\n",
    "    \n",
    "except Exception as e:\n",
    "    print(\"Error:\", e)\n",
    "    pass"
   ]
  },
  {
   "cell_type": "code",
   "execution_count": null,
   "id": "a6e36390",
   "metadata": {},
   "outputs": [],
   "source": [
    "try:\n",
    "    plt.figure(figsize=(5,5))\n",
    "    col_name = 'DeviceProtection'\n",
    "    values = df[col_name].value_counts()\n",
    "    index = 0\n",
    "    ax = sns.countplot(df[col_name], palette=\"prism\")\n",
    "\n",
    "    for i in ax.get_xticklabels():\n",
    "        ax.text(index, values[i.get_text()]/2, values[i.get_text()], \n",
    "                horizontalalignment=\"center\", fontweight='bold', color='w')\n",
    "        index += 1\n",
    "    \n",
    "    plt.title(f\"Count Plot for {col_name}\\n\")\n",
    "    plt.ylabel(f\"Number of rows\")\n",
    "    plt.show()\n",
    "    \n",
    "except Exception as e:\n",
    "    print(\"Error:\", e)\n",
    "    pass"
   ]
  },
  {
   "cell_type": "code",
   "execution_count": null,
   "id": "b081b84c",
   "metadata": {},
   "outputs": [],
   "source": [
    "try:\n",
    "    plt.figure(figsize=(5,5))\n",
    "    col_name = 'TechSupport'\n",
    "    values = df[col_name].value_counts()\n",
    "    index = 0\n",
    "    ax = sns.countplot(df[col_name], palette=\"prism\")\n",
    "\n",
    "    for i in ax.get_xticklabels():\n",
    "        ax.text(index, values[i.get_text()]/2, values[i.get_text()], \n",
    "                horizontalalignment=\"center\", fontweight='bold', color='w')\n",
    "        index += 1\n",
    "    \n",
    "    plt.title(f\"Count Plot for {col_name}\\n\")\n",
    "    plt.ylabel(f\"Number of rows\")\n",
    "    plt.show()\n",
    "    \n",
    "except Exception as e:\n",
    "    print(\"Error:\", e)\n",
    "    pass"
   ]
  },
  {
   "cell_type": "code",
   "execution_count": null,
   "id": "9268e47b",
   "metadata": {},
   "outputs": [],
   "source": [
    "try:\n",
    "    plt.figure(figsize=(5,5))\n",
    "    col_name = 'StreamingTV'\n",
    "    values = df[col_name].value_counts()\n",
    "    index = 0\n",
    "    ax = sns.countplot(df[col_name], palette=\"prism\")\n",
    "\n",
    "    for i in ax.get_xticklabels():\n",
    "        ax.text(index, values[i.get_text()]/2, values[i.get_text()], \n",
    "                horizontalalignment=\"center\", fontweight='bold', color='w')\n",
    "        index += 1\n",
    "    \n",
    "    plt.title(f\"Count Plot for {col_name}\\n\")\n",
    "    plt.ylabel(f\"Number of rows\")\n",
    "    plt.show()\n",
    "    \n",
    "except Exception as e:\n",
    "    print(\"Error:\", e)\n",
    "    pass"
   ]
  },
  {
   "cell_type": "code",
   "execution_count": null,
   "id": "b2377290",
   "metadata": {},
   "outputs": [],
   "source": [
    "try:\n",
    "    plt.figure(figsize=(5,5))\n",
    "    col_name = 'StreamingMovies'\n",
    "    values = df[col_name].value_counts()\n",
    "    index = 0\n",
    "    ax = sns.countplot(df[col_name], palette=\"prism\")\n",
    "\n",
    "    for i in ax.get_xticklabels():\n",
    "        ax.text(index, values[i.get_text()]/2, values[i.get_text()], \n",
    "                horizontalalignment=\"center\", fontweight='bold', color='w')\n",
    "        index += 1\n",
    "    \n",
    "    plt.title(f\"Count Plot for {col_name}\\n\")\n",
    "    plt.ylabel(f\"Number of rows\")\n",
    "    plt.show()\n",
    "    \n",
    "except Exception as e:\n",
    "    print(\"Error:\", e)\n",
    "    pass"
   ]
  },
  {
   "cell_type": "code",
   "execution_count": null,
   "id": "db33bdb0",
   "metadata": {},
   "outputs": [],
   "source": [
    "try:\n",
    "    plt.figure(figsize=(5,5))\n",
    "    col_name = 'Contract'\n",
    "    values = df[col_name].value_counts()\n",
    "    index = 0\n",
    "    ax = sns.countplot(df[col_name], palette=\"prism\")\n",
    "\n",
    "    for i in ax.get_xticklabels():\n",
    "        ax.text(index, values[i.get_text()]/2, values[i.get_text()], \n",
    "                horizontalalignment=\"center\", fontweight='bold', color='w')\n",
    "        index += 1\n",
    "    \n",
    "    plt.title(f\"Count Plot for {col_name}\\n\")\n",
    "    plt.ylabel(f\"Number of rows\")\n",
    "    plt.show()\n",
    "    \n",
    "except Exception as e:\n",
    "    print(\"Error:\", e)\n",
    "    pass"
   ]
  },
  {
   "cell_type": "code",
   "execution_count": null,
   "id": "1aeb90ec",
   "metadata": {},
   "outputs": [],
   "source": [
    "try:\n",
    "    plt.figure(figsize=(5,5))\n",
    "    col_name = 'PaymentMethod'\n",
    "    values = df[col_name].value_counts()\n",
    "    index = 0\n",
    "    ax = sns.countplot(df[col_name], palette=\"prism\")\n",
    "\n",
    "    for i in ax.get_xticklabels():\n",
    "        ax.text(index, values[i.get_text()]/2, values[i.get_text()], \n",
    "                horizontalalignment=\"center\", fontweight='bold', color='w')\n",
    "        index += 1\n",
    "    \n",
    "    plt.title(f\"Count Plot for {col_name}\\n\")\n",
    "    plt.xticks(rotation=90)\n",
    "    plt.ylabel(f\"Number of rows\")\n",
    "    plt.show()\n",
    "    \n",
    "except Exception as e:\n",
    "    print(\"Error:\", e)\n",
    "    pass"
   ]
  },
  {
   "cell_type": "code",
   "execution_count": null,
   "id": "9ef75578",
   "metadata": {},
   "outputs": [],
   "source": [
    "plt.style.use('seaborn-dark-palette')\n",
    "\n",
    "new_data=object_datatype\n",
    "new_data.remove('Churn')\n",
    "new_list=new_data\n",
    "for col in new_list:\n",
    "    if col=='PaymentMethod':\n",
    "        aspect_ratio=2.0\n",
    "    else:\n",
    "        aspect_ratio=0.8\n",
    "    sns.displot(x=col, hue='Churn', data=df, element=\"bars\", aspect=aspect_ratio)"
   ]
  },
  {
   "cell_type": "code",
   "execution_count": null,
   "id": "458dad8c",
   "metadata": {},
   "outputs": [],
   "source": [
    "plt.style.use('default')\n",
    "plt.style.use('seaborn-bright')\n",
    "\n",
    "sns.relplot(data=df, x='tenure', y='MonthlyCharges', hue='Churn')\n",
    "sns.rugplot(data=df, x='tenure', y='MonthlyCharges', hue='Churn', legend=False)"
   ]
  },
  {
   "cell_type": "code",
   "execution_count": null,
   "id": "524bef3e",
   "metadata": {},
   "outputs": [],
   "source": [
    "sns.relplot(data=df, x='tenure', y='TotalCharges', hue='Churn')\n",
    "sns.rugplot(data=df, x='tenure', y='TotalCharges', hue='Churn', legend=False)"
   ]
  },
  {
   "cell_type": "code",
   "execution_count": null,
   "id": "da455dfe",
   "metadata": {},
   "outputs": [],
   "source": [
    "sns.relplot(data=df, x='TotalCharges', y='MonthlyCharges', hue='Churn')\n",
    "sns.rugplot(data=df, x='TotalCharges', y='MonthlyCharges', hue='Churn', legend=False)"
   ]
  },
  {
   "cell_type": "markdown",
   "id": "c6bcb921",
   "metadata": {},
   "source": [
    "# Encoding the categorical object datatype columns"
   ]
  },
  {
   "cell_type": "code",
   "execution_count": null,
   "id": "6b099414",
   "metadata": {},
   "outputs": [],
   "source": [
    "# Label Encoder\n",
    "\n",
    "le = LabelEncoder()\n",
    "df[\"Churn\"] = le.fit_transform(df[\"Churn\"])\n",
    "df.head()"
   ]
  },
  {
   "cell_type": "code",
   "execution_count": null,
   "id": "6b7d9ce2",
   "metadata": {},
   "outputs": [],
   "source": [
    "# Ordinal Encoder\n",
    "\n",
    "oe = OrdinalEncoder()\n",
    "def ordinal_encode(df, column):\n",
    "    df[column] = oe.fit_transform(df[column])\n",
    "    return df\n",
    "\n",
    "df=ordinal_encode(df, ['gender', 'Partner', 'Dependents', 'PhoneService', 'MultipleLines', 'SeniorCitizen',\n",
    "                       'InternetService', 'OnlineSecurity', 'OnlineBackup', 'DeviceProtection', 'TechSupport',\n",
    "                       'StreamingTV', 'StreamingMovies', 'Contract', 'PaperlessBilling', 'PaymentMethod'])\n",
    "df.head()"
   ]
  },
  {
   "cell_type": "code",
   "execution_count": null,
   "id": "dbffc509",
   "metadata": {},
   "outputs": [],
   "source": [
    "print(f\"Shape of our data frame post encoding is\", df.shape)\n",
    "df.isnull().sum()"
   ]
  },
  {
   "cell_type": "code",
   "execution_count": null,
   "id": "e5d9796d",
   "metadata": {},
   "outputs": [],
   "source": [
    "plt.style.use('fast')\n",
    "\n",
    "fig, ax = plt.subplots(ncols=3, nrows=1, figsize=(7,4))\n",
    "index = 0\n",
    "ax = ax.flatten()\n",
    "for col, value in df[number_datatype].items():\n",
    "    sns.boxplot(y=col, data=df, ax=ax[index], palette=\"Set2\")\n",
    "    index += 1\n",
    "plt.tight_layout(pad=0.4, w_pad=0.4, h_pad=1.0)\n",
    "plt.show()"
   ]
  },
  {
   "cell_type": "code",
   "execution_count": null,
   "id": "c9c995a0",
   "metadata": {},
   "outputs": [],
   "source": [
    "df.skew()"
   ]
  },
  {
   "cell_type": "code",
   "execution_count": null,
   "id": "f506df21",
   "metadata": {},
   "outputs": [],
   "source": [
    "fig, ax = plt.subplots(ncols=3, nrows=1, figsize=(7,4))\n",
    "index = 0\n",
    "ax = ax.flatten()\n",
    "for col, value in df[number_datatype].items():\n",
    "    sns.distplot(value, ax=ax[index], hist=False, color=\"y\", kde_kws={\"shade\": True})\n",
    "    index += 1\n",
    "plt.tight_layout(pad=0.4, w_pad=0.4, h_pad=1.0)\n",
    "plt.show()"
   ]
  },
  {
   "cell_type": "markdown",
   "id": "c1931b3b",
   "metadata": {},
   "source": [
    "# Using Log Transform to fix skewness"
   ]
  },
  {
   "cell_type": "code",
   "execution_count": null,
   "id": "ed31e64d",
   "metadata": {},
   "outputs": [],
   "source": [
    "for col in number_datatype:\n",
    "    if df.skew().loc[col]>0.55:\n",
    "        df[col]=np.log1p(df[col])"
   ]
  },
  {
   "cell_type": "code",
   "execution_count": null,
   "id": "54de6ed4",
   "metadata": {},
   "outputs": [],
   "source": [
    "df.hist(figsize=(15,15))\n",
    "plt.show()"
   ]
  },
  {
   "cell_type": "markdown",
   "id": "371b180d",
   "metadata": {},
   "source": [
    "# Correlation using a Heatmap\n",
    "\n",
    "Positive correlation - A correlation of +1 indicates a perfect positive correlation, meaning that both variables move in the same direction together.\n",
    "\n",
    "Negative correlation - A correlation of –1 indicates a perfect negative correlation, meaning that as one variable goes up, the other goes down."
   ]
  },
  {
   "cell_type": "code",
   "execution_count": null,
   "id": "f1450c22",
   "metadata": {},
   "outputs": [],
   "source": [
    "plt.style.use('seaborn-pastel')\n",
    "\n",
    "upper_triangle = np.triu(df.corr())\n",
    "plt.figure(figsize=(20,10))\n",
    "sns.heatmap(df.corr(), vmin=-1, vmax=1, annot=True, square=True, fmt='0.3f', \n",
    "            annot_kws={'size':8}, cmap=\"hsv\", mask=upper_triangle)\n",
    "plt.xticks(fontsize=10)\n",
    "plt.yticks(fontsize=10)\n",
    "plt.show()"
   ]
  },
  {
   "cell_type": "markdown",
   "id": "e03591cf",
   "metadata": {},
   "source": [
    "# Correlation Bar Plot comparing features with our label"
   ]
  },
  {
   "cell_type": "code",
   "execution_count": null,
   "id": "803bc35c",
   "metadata": {},
   "outputs": [],
   "source": [
    "plt.style.use('seaborn-white')\n",
    "\n",
    "df_corr = df.corr()\n",
    "plt.figure(figsize=(10,5))\n",
    "df_corr['Churn'].sort_values(ascending=False).drop('Churn').plot.bar()\n",
    "plt.title(\"Correlation of Features vs Income Label\\n\", fontsize=16)\n",
    "plt.xlabel(\"\\nFeatures List\", fontsize=14)\n",
    "plt.ylabel(\"Correlation Value\", fontsize=12)\n",
    "plt.show()"
   ]
  },
  {
   "cell_type": "markdown",
   "id": "69502470",
   "metadata": {},
   "source": [
    "# Splitting the dataset into 2 variables namely 'X' and 'Y' for feature and label"
   ]
  },
  {
   "cell_type": "code",
   "execution_count": null,
   "id": "11738801",
   "metadata": {},
   "outputs": [],
   "source": [
    "X = df.drop('Churn', axis=1)\n",
    "Y = df['Churn']"
   ]
  },
  {
   "cell_type": "markdown",
   "id": "422964ea",
   "metadata": {},
   "source": [
    "# Resolving the class imbalance issue in our label column"
   ]
  },
  {
   "cell_type": "code",
   "execution_count": null,
   "id": "60ba152e",
   "metadata": {},
   "outputs": [],
   "source": [
    "y.value_counts()"
   ]
  },
  {
   "cell_type": "code",
   "execution_count": null,
   "id": "192b45b7",
   "metadata": {},
   "outputs": [],
   "source": [
    "# adding samples to make all the categorical label values same\n",
    "\n",
    "oversample = SMOTE()\n",
    "X, Y = oversample.fit_resample(X, Y)"
   ]
  },
  {
   "cell_type": "code",
   "execution_count": null,
   "id": "164bbd98",
   "metadata": {},
   "outputs": [],
   "source": [
    "y.value_counts()"
   ]
  },
  {
   "cell_type": "markdown",
   "id": "2b65e209",
   "metadata": {},
   "source": [
    "# Feature Scaling"
   ]
  },
  {
   "cell_type": "code",
   "execution_count": null,
   "id": "28bd9e7b",
   "metadata": {},
   "outputs": [],
   "source": [
    "scaler = StandardScaler()\n",
    "X = pd.DataFrame(scaler.fit_transform(X), columns=X.columns)\n",
    "X.head()"
   ]
  },
  {
   "cell_type": "markdown",
   "id": "71a35e0f",
   "metadata": {},
   "source": [
    "# Finding best random state for building our Classification Models"
   ]
  },
  {
   "cell_type": "code",
   "execution_count": null,
   "id": "77e8db71",
   "metadata": {},
   "outputs": [],
   "source": [
    "maxAccu=0\n",
    "maxRS=0\n",
    "\n",
    "for i in range(1, 1000):\n",
    "    X_train, X_test, Y_train, Y_test = train_test_split(X, Y, test_size=0.25, random_state=i)\n",
    "    lr=LogisticRegression()\n",
    "    lr.fit(X_train, Y_train)\n",
    "    pred = lr.predict(X_test)\n",
    "    acc_score = (accuracy_score(Y_test, pred))*100\n",
    "    \n",
    "    if acc_score>maxAccu:\n",
    "        maxAccu=acc_score\n",
    "        maxRS=i\n",
    "\n",
    "print(\"Best accuracy score is\", maxAccu,\"on Random State\", maxRS)"
   ]
  },
  {
   "cell_type": "markdown",
   "id": "7126c73a",
   "metadata": {},
   "source": [
    "# Feature importance bar graph"
   ]
  },
  {
   "cell_type": "code",
   "execution_count": null,
   "id": "f7c742e0",
   "metadata": {},
   "outputs": [],
   "source": [
    "rf=RandomForestClassifier()\n",
    "rf.fit(X_train, Y_train)\n",
    "importances = pd.DataFrame({'Features':X.columns, 'Importance':np.round(rf.feature_importances_,3)})\n",
    "importances = importances.sort_values('Importance', ascending=False).set_index('Features')\n",
    "importances.plot.bar(color='teal')\n",
    "importances"
   ]
  },
  {
   "cell_type": "markdown",
   "id": "bc463ba5",
   "metadata": {},
   "source": [
    "# Machine Learning Model for Classification with Evaluation Metrics"
   ]
  },
  {
   "cell_type": "code",
   "execution_count": null,
   "id": "ec309854",
   "metadata": {},
   "outputs": [],
   "source": [
    "# Classification Model Function\n",
    "\n",
    "def classify(model, X, Y):\n",
    "    X_train, X_test, Y_train, Y_test = train_test_split(X, Y, test_size=0.25, random_state=10)\n",
    "    \n",
    "    # Training the model\n",
    "    model.fit(X_train, Y_train)\n",
    "    \n",
    "    # Predicting Y_test\n",
    "    pred = model.predict(X_test)\n",
    "    \n",
    "    # Classification Report\n",
    "    class_report = classification_report(Y_test, pred)\n",
    "    print(\"\\nClassification Report:\\n\", class_report)\n",
    "    \n",
    "    # Accuracy Score\n",
    "    acc_score = (accuracy_score(Y_test, pred))*100\n",
    "    print(\"Accuracy Score:\", acc_score)\n",
    "    \n",
    "    # Cross Validation Score\n",
    "    cv_score = (cross_val_score(model, X, Y, cv=5).mean())*100\n",
    "    print(\"Cross Validation Score:\", cv_score)\n",
    "    \n",
    "    # Result of accuracy minus cv scores\n",
    "    result = acc_score - cv_score\n",
    "    print(\"\\nAccuracy Score - Cross Validation Score is\", result)"
   ]
  },
  {
   "cell_type": "code",
   "execution_count": null,
   "id": "a161fd61",
   "metadata": {},
   "outputs": [],
   "source": [
    "# Logistic Regression\n",
    "\n",
    "model=LogisticRegression()\n",
    "classify(model, X, Y)"
   ]
  },
  {
   "cell_type": "code",
   "execution_count": null,
   "id": "8142234f",
   "metadata": {},
   "outputs": [],
   "source": [
    "# Support Vector Classifier\n",
    "\n",
    "model=SVC(C=1.0, kernel='rbf', gamma='auto', random_state=42)\n",
    "classify(model, X, Y)"
   ]
  },
  {
   "cell_type": "code",
   "execution_count": null,
   "id": "efb41e2e",
   "metadata": {},
   "outputs": [],
   "source": [
    "# Decision Tree Classifier\n",
    "\n",
    "model=DecisionTreeClassifier(random_state=21, max_depth=15)\n",
    "classify(model, X, Y)"
   ]
  },
  {
   "cell_type": "code",
   "execution_count": null,
   "id": "7e38394e",
   "metadata": {},
   "outputs": [],
   "source": [
    "# Random Forest Classifier\n",
    "\n",
    "model=RandomForestClassifier(max_depth=15, random_state=111)\n",
    "classify(model, X, Y)"
   ]
  },
  {
   "cell_type": "code",
   "execution_count": null,
   "id": "9778f20a",
   "metadata": {},
   "outputs": [],
   "source": [
    "# K Neighbors Classifier\n",
    "\n",
    "model=KNeighborsClassifier(n_neighbors=15)\n",
    "classify(model, X, Y)"
   ]
  },
  {
   "cell_type": "code",
   "execution_count": null,
   "id": "a6f7e0a2",
   "metadata": {},
   "outputs": [],
   "source": [
    "# Extra Trees Classifier\n",
    "\n",
    "model=ExtraTreesClassifier()\n",
    "classify(model, X, Y)"
   ]
  },
  {
   "cell_type": "code",
   "execution_count": null,
   "id": "fd7eebc3",
   "metadata": {},
   "outputs": [],
   "source": [
    "# XGB Classifier\n",
    "\n",
    "model=xgb.XGBClassifier(verbosity=0)\n",
    "classify(model, X, Y)"
   ]
  },
  {
   "cell_type": "code",
   "execution_count": null,
   "id": "5535a801",
   "metadata": {},
   "outputs": [],
   "source": [
    "# LGBM Classifier\n",
    "\n",
    "model=lgb.LGBMClassifier()\n",
    "classify(model, X, Y)"
   ]
  },
  {
   "cell_type": "markdown",
   "id": "3367fbbd",
   "metadata": {},
   "source": [
    "# Hyper parameter tuning on the best Classification ML Model"
   ]
  },
  {
   "cell_type": "code",
   "execution_count": null,
   "id": "cd858497",
   "metadata": {},
   "outputs": [],
   "source": [
    "# Choosing Extra Trees Classifier\n",
    "\n",
    "fmod_param = {'criterion' : ['gini', 'entropy'],\n",
    "              'n_jobs' : [-2, -1, 1],\n",
    "              'random_state' : [10, 42, 1000],\n",
    "              'max_depth' : [0, 15, 30],\n",
    "              'n_estimators' : [100, 200, 300]\n",
    "             }"
   ]
  },
  {
   "cell_type": "code",
   "execution_count": null,
   "id": "1473af1e",
   "metadata": {},
   "outputs": [],
   "source": [
    "GSCV = GridSearchCV(ExtraTreesClassifier(), fmod_param, cv=5)"
   ]
  },
  {
   "cell_type": "code",
   "execution_count": null,
   "id": "06cc1e03",
   "metadata": {},
   "outputs": [],
   "source": [
    "GSCV.fit(X_train,Y_train)"
   ]
  },
  {
   "cell_type": "code",
   "execution_count": null,
   "id": "89b59a22",
   "metadata": {},
   "outputs": [],
   "source": [
    "GSCV.best_params_"
   ]
  },
  {
   "cell_type": "code",
   "execution_count": null,
   "id": "1a42f1d0",
   "metadata": {},
   "outputs": [],
   "source": [
    "Final_Model = ExtraTreesClassifier(criterion='gini', max_depth=30, n_estimators=100, n_jobs=-2, random_state=42)\n",
    "Classifier = Final_Model.fit(X_train, Y_train)\n",
    "fmod_pred = Final_Model.predict(X_test)\n",
    "fmod_acc = (accuracy_score(Y_test, fmod_pred))*100\n",
    "print(\"Accuracy score for the Best Model is:\", fmod_acc)"
   ]
  },
  {
   "cell_type": "markdown",
   "id": "c5b7a9a8",
   "metadata": {},
   "source": [
    "# AUC ROC Curve"
   ]
  },
  {
   "cell_type": "code",
   "execution_count": null,
   "id": "fd3dc189",
   "metadata": {},
   "outputs": [],
   "source": [
    "plt.style.use('seaborn-bright')\n",
    "\n",
    "disp = metrics.plot_roc_curve(Final_Model, X_test, Y_test)\n",
    "disp.figure_.suptitle(\"ROC Curve\")\n",
    "plt.show()"
   ]
  },
  {
   "cell_type": "markdown",
   "id": "6212e462",
   "metadata": {},
   "source": [
    "# Confusion matrix"
   ]
  },
  {
   "cell_type": "code",
   "execution_count": null,
   "id": "25379b57",
   "metadata": {},
   "outputs": [],
   "source": [
    "plt.style.use('default')\n",
    "\n",
    "class_names = df.columns\n",
    "metrics.plot_confusion_matrix(Classifier, X_test, Y_test, cmap='mako')\n",
    "plt.title('\\t Confusion Matrix for Decision Tree Classifier \\n')\n",
    "plt.show()"
   ]
  },
  {
   "cell_type": "markdown",
   "id": "db50dfbb",
   "metadata": {},
   "source": [
    "# Saving the model"
   ]
  },
  {
   "cell_type": "code",
   "execution_count": null,
   "id": "33a4cd19",
   "metadata": {},
   "outputs": [],
   "source": [
    "filename = \"FinalModel_E08.pkl\"\n",
    "joblib.dump(Final_Model, filename)"
   ]
  }
 ],
 "metadata": {
  "kernelspec": {
   "display_name": "Python 3 (ipykernel)",
   "language": "python",
   "name": "python3"
  },
  "language_info": {
   "codemirror_mode": {
    "name": "ipython",
    "version": 3
   },
   "file_extension": ".py",
   "mimetype": "text/x-python",
   "name": "python",
   "nbconvert_exporter": "python",
   "pygments_lexer": "ipython3",
   "version": "3.9.7"
  }
 },
 "nbformat": 4,
 "nbformat_minor": 5
}
